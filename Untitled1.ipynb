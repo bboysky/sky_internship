{
 "cells": [
  {
   "cell_type": "code",
   "execution_count": 2,
   "metadata": {},
   "outputs": [],
   "source": [
    "import os\n",
    "import numpy as np\n",
    "import pandas as pd\n",
    "import jaqs_fxdayu\n",
    "jaqs_fxdayu.patch_all()\n",
    "from jaqs.data import DataView\n",
    "from jaqs_fxdayu.data.dataservice import LocalDataService\n",
    "import talib as ta\n",
    "\n",
    "import warnings\n",
    "warnings.filterwarnings(\"ignore\")"
   ]
  },
  {
   "cell_type": "code",
   "execution_count": null,
   "metadata": {},
   "outputs": [],
   "source": [
    "start = 20170101\n",
    "end = 20180101\n",
    "factor_list  = ['N_CE_END_BAL','T_CL','T_CA','T_ASSETS','OPA_PROFIT','T_PROFIT','COGS','REVENUE','N_TAN_ASSETS','INT_DEBT']\n",
    "check_factor = ','.join(factor_list)"
   ]
  },
  {
   "cell_type": "code",
   "execution_count": null,
   "metadata": {},
   "outputs": [],
   "source": [
    "dataview_folder = r'D:/data'\n",
    "ds = LocalDataService(fp = dataview_folder)\n"
   ]
  },
  {
   "cell_type": "code",
   "execution_count": null,
   "metadata": {},
   "outputs": [],
   "source": [
    "SH_id = ds.query_index_member(\"000001.SH\", start, end)\n",
    "SZ_id = ds.query_index_member(\"399106.SZ\", start, end)\n",
    "stock_symbol = list(set(SH_id)|set(SZ_id))\n",
    "\n",
    "dv_props = {'start_date': start, 'end_date': end, 'symbol':','.join(stock_symbol),\n",
    "         'fields': check_factor,\n",
    "         'freq': 1,\n",
    "         \"prepare_fields\": True}"
   ]
  },
  {
   "cell_type": "code",
   "execution_count": null,
   "metadata": {},
   "outputs": [],
   "source": [
    "dv = DataView()\n",
    "dv.init_from_config(dv_props, data_api=ds)\n",
    "dv.prepare_data()"
   ]
  },
  {
   "cell_type": "code",
   "execution_count": null,
   "metadata": {},
   "outputs": [],
   "source": [
    "def Beta60():\n",
    "    Beta60 = dv.add_formula('Beta60',)"
   ]
  },
  {
   "cell_type": "code",
   "execution_count": null,
   "metadata": {},
   "outputs": [],
   "source": [
    "def CashToCurrentLiability():\n",
    "    CashToCurrentLiability = dv.add_formula('CashToCurrentLiability',\"N_CE_END_BAL/T_CL\",is_quarterly = False)\n",
    "    return CashToCurrentLiability"
   ]
  },
  {
   "cell_type": "code",
   "execution_count": null,
   "metadata": {},
   "outputs": [],
   "source": [
    "def CurrentAssetsRatio():\n",
    "    CurrentAssetsRatio = dv.add_formula('CurrentAssetsRatio',\"T_CA/T_ASSETS\",is_quarterly = False)\n",
    "    return CurrentAssetsRatio"
   ]
  },
  {
   "cell_type": "code",
   "execution_count": null,
   "metadata": {},
   "outputs": [],
   "source": [
    "def MA10Close():\n",
    "    MA10Close = dv.add_formula('MA10Close',\"ta.MA(close,10)/close\",is_quarterly = False)\n",
    "    return MA10Close"
   ]
  },
  {
   "cell_type": "code",
   "execution_count": null,
   "metadata": {},
   "outputs": [],
   "source": [
    "def OperatingNIToTP():\n",
    "    OperatingNIToTP = dv.add_formula('OperatingNIToTP',\"OPA_PROFIT/T_PROFIT\",is_quarterly = False)\n",
    "    return OperatingNIToTP"
   ]
  },
  {
   "cell_type": "code",
   "execution_count": null,
   "metadata": {},
   "outputs": [],
   "source": [
    "def SalesCostRatio():\n",
    "    SalesCostRatio = dv.add_formula('SalesCostRatio',\"COGS/REVENUE\",is_quarterly = False)\n",
    "    return SalesCostRatio"
   ]
  },
  {
   "cell_type": "code",
   "execution_count": null,
   "metadata": {},
   "outputs": [],
   "source": [
    "def alpha83():\n",
    "    alpha83 = dv.add_formula('alpha83', \"-1*Rank(Covariance(Rank(high),Rank(volume),5))\", is_quarterly=False)\n",
    "    return alpha83"
   ]
  },
  {
   "cell_type": "code",
   "execution_count": 1,
   "metadata": {},
   "outputs": [],
   "source": [
    "def alpha135():\n",
    "    alpha135 = dv.add_formula('alpha135', \"ta.MA(Delay(close/Delay(close,20),1),20)\", is_quarterly=False)\n",
    "    return alpha135"
   ]
  },
  {
   "cell_type": "code",
   "execution_count": null,
   "metadata": {},
   "outputs": [],
   "source": [
    "def TangibleAToInteBearDebt():\n",
    "    TangibleAToInteBearDebt = dv.add_formula('TangibleAToInteBearDebt',\"N_TAN_ASSETS/INT_DEBT\",is_quarterly = False)\n",
    "    return TangibleAToInteBearDebt"
   ]
  },
  {
   "cell_type": "code",
   "execution_count": null,
   "metadata": {},
   "outputs": [],
   "source": [
    "#test output\n",
    "def test(factor,data):\n",
    "    if not isinstance(data, pd.core.frame.DataFrame):\n",
    "        raise TypeError('On factor {} ,output must be a pandas.DataFrame!'.format(factor))\n",
    "    else:\n",
    "        try:\n",
    "            index_name = data.index.names[0]\n",
    "            columns_name = data.index.names[0]\n",
    "        except:\n",
    "            if not (index_name in ['trade_date','report_date'] and columns_name == 'symbol'):\n",
    "                raise NameError('''Error index name,index name must in [\"trade_date\",\"report_date\"],columns name must be \"symbol\" ''')\n",
    "                \n",
    "        index_dtype = data.index.dtype_str\n",
    "        columns_dtype = data.columns.dtype_str\n",
    "        \n",
    "        if columns_dtype not in ['object','str']:\n",
    "            raise TypeError('error columns type')\n",
    "            \n",
    "        if index_dtype not in ['int32','int64','int']:\n",
    "            raise TypeError('error index type')\n",
    "\n",
    "\n",
    "test_factor = False\n",
    "\n",
    "if test_factor:   \n",
    "    for factor in factor_list[5:]:\n",
    "        data = globals()[factor]()\n",
    "        test(factor,data)\n"
   ]
  }
 ],
 "metadata": {
  "kernelspec": {
   "display_name": "Python 3",
   "language": "python",
   "name": "python3"
  },
  "language_info": {
   "codemirror_mode": {
    "name": "ipython",
    "version": 3
   },
   "file_extension": ".py",
   "mimetype": "text/x-python",
   "name": "python",
   "nbconvert_exporter": "python",
   "pygments_lexer": "ipython3",
   "version": "3.6.4"
  }
 },
 "nbformat": 4,
 "nbformat_minor": 2
}
